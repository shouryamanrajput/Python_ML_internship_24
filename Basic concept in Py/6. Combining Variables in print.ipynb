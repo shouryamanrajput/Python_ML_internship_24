{
 "cells": [
  {
   "cell_type": "code",
   "execution_count": 7,
   "id": "f32579ca-196a-4152-8d0c-cf49a8068bf2",
   "metadata": {},
   "outputs": [],
   "source": []
  },
  {
   "cell_type": "code",
   "execution_count": 18,
   "id": "ca78a10e-792c-4df5-922c-89e72a34e41c",
   "metadata": {},
   "outputs": [],
   "source": [
    "name = \"Lavish\"\n",
    "rollno = 196\n",
    "sec = \"A4\""
   ]
  },
  {
   "cell_type": "code",
   "execution_count": 19,
   "id": "d6cd5232-7e31-4354-a397-8a9092fb99a1",
   "metadata": {},
   "outputs": [
    {
     "name": "stdout",
     "output_type": "stream",
     "text": [
      " My name is Lavish student of section A4 bearing roll number :  196\n"
     ]
    }
   ],
   "source": [
    "print(\" My name is \" + name + \" student of section\" , sec + \" bearing roll number : \" ,  rollno)"
   ]
  },
  {
   "cell_type": "code",
   "execution_count": 21,
   "id": "394b7cbf-9977-4e24-8227-98ae1853eb9c",
   "metadata": {},
   "outputs": [],
   "source": [
    "score = 96.23\n",
    "semester = '2nd'"
   ]
  },
  {
   "cell_type": "code",
   "execution_count": 27,
   "id": "5419e3a2-b01f-410b-8ba2-10ac8185874e",
   "metadata": {},
   "outputs": [
    {
     "name": "stdout",
     "output_type": "stream",
     "text": [
      " I scored  96.23  in semester  2nd\n"
     ]
    }
   ],
   "source": [
    "print(\" I scored \" , score , \" in semester \" , semester)"
   ]
  },
  {
   "cell_type": "code",
   "execution_count": null,
   "id": "353873e0-b1cb-49a3-9719-df7c2878ed14",
   "metadata": {},
   "outputs": [],
   "source": []
  }
 ],
 "metadata": {
  "kernelspec": {
   "display_name": "Python 3 (ipykernel)",
   "language": "python",
   "name": "python3"
  },
  "language_info": {
   "codemirror_mode": {
    "name": "ipython",
    "version": 3
   },
   "file_extension": ".py",
   "mimetype": "text/x-python",
   "name": "python",
   "nbconvert_exporter": "python",
   "pygments_lexer": "ipython3",
   "version": "3.12.4"
  }
 },
 "nbformat": 4,
 "nbformat_minor": 5
}
