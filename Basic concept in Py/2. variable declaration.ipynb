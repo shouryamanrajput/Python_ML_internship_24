{
 "cells": [
  {
   "cell_type": "code",
   "execution_count": 17,
   "id": "9322b2c9-7242-4498-a73c-4dd653a76554",
   "metadata": {},
   "outputs": [
    {
     "data": {
      "text/plain": [
       "358"
      ]
     },
     "execution_count": 17,
     "metadata": {},
     "output_type": "execute_result"
    }
   ],
   "source": [
    "# applying arithmetic Operations (Without Variable declaration)\n",
    "123 + 235"
   ]
  },
  {
   "cell_type": "code",
   "execution_count": 19,
   "id": "d3f8c453-9e9f-4040-9c4a-c5e96252b6f7",
   "metadata": {},
   "outputs": [],
   "source": [
    "# storing value in a variable\n",
    "a = 234"
   ]
  },
  {
   "cell_type": "code",
   "execution_count": 20,
   "id": "cd5e9ba5-c30f-406b-a6b4-a15e7ab14fef",
   "metadata": {},
   "outputs": [
    {
     "data": {
      "text/plain": [
       "234"
      ]
     },
     "execution_count": 20,
     "metadata": {},
     "output_type": "execute_result"
    }
   ],
   "source": [
    "a "
   ]
  },
  {
   "cell_type": "code",
   "execution_count": 26,
   "id": "65de798d-5a49-43fc-bcaa-cd2886f1a616",
   "metadata": {},
   "outputs": [],
   "source": [
    "# storing value in a variable and performing arithmetic operation:\n",
    "a = 22\n",
    "b = 11"
   ]
  },
  {
   "cell_type": "code",
   "execution_count": 27,
   "id": "416ebe60-586e-4499-af15-629bba47f6ba",
   "metadata": {},
   "outputs": [
    {
     "data": {
      "text/plain": [
       "33"
      ]
     },
     "execution_count": 27,
     "metadata": {},
     "output_type": "execute_result"
    }
   ],
   "source": [
    "a + b\n"
   ]
  }
 ],
 "metadata": {
  "kernelspec": {
   "display_name": "Python 3 (ipykernel)",
   "language": "python",
   "name": "python3"
  },
  "language_info": {
   "codemirror_mode": {
    "name": "ipython",
    "version": 3
   },
   "file_extension": ".py",
   "mimetype": "text/x-python",
   "name": "python",
   "nbconvert_exporter": "python",
   "pygments_lexer": "ipython3",
   "version": "3.12.4"
  }
 },
 "nbformat": 4,
 "nbformat_minor": 5
}
