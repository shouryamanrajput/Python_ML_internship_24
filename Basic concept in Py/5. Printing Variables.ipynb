{
 "cells": [
  {
   "cell_type": "code",
   "execution_count": 11,
   "id": "a6f4818d-ffb4-4586-a45f-9b7ec5c8c697",
   "metadata": {},
   "outputs": [],
   "source": [
    "Name = 'Shouryaman'\n",
    "section = 'A4'\n",
    "roll_number = 169\n",
    "session = '2022 - 2026'"
   ]
  },
  {
   "cell_type": "code",
   "execution_count": 12,
   "id": "26945d52-f61b-49ec-85e8-aeb12748a0f7",
   "metadata": {},
   "outputs": [
    {
     "name": "stdout",
     "output_type": "stream",
     "text": [
      "Shouryaman A4 169 2022 - 2026\n"
     ]
    }
   ],
   "source": [
    "print(Name, section, roll_number, session)"
   ]
  },
  {
   "cell_type": "code",
   "execution_count": null,
   "id": "e73cba48-a336-44e7-9ffb-8d86a5b1d1f9",
   "metadata": {},
   "outputs": [],
   "source": []
  }
 ],
 "metadata": {
  "kernelspec": {
   "display_name": "Python 3 (ipykernel)",
   "language": "python",
   "name": "python3"
  },
  "language_info": {
   "codemirror_mode": {
    "name": "ipython",
    "version": 3
   },
   "file_extension": ".py",
   "mimetype": "text/x-python",
   "name": "python",
   "nbconvert_exporter": "python",
   "pygments_lexer": "ipython3",
   "version": "3.12.4"
  }
 },
 "nbformat": 4,
 "nbformat_minor": 5
}
