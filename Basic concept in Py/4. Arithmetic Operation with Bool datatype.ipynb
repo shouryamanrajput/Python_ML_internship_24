{
 "cells": [
  {
   "cell_type": "code",
   "execution_count": 1,
   "id": "7cd6114f-059e-4148-9694-13598beadc3b",
   "metadata": {},
   "outputs": [],
   "source": [
    "# # Arithmetic Operation with Bool datatype"
   ]
  },
  {
   "cell_type": "code",
   "execution_count": 12,
   "id": "f2e53a65-a860-43ca-be7e-fe63072d0f46",
   "metadata": {},
   "outputs": [],
   "source": [
    "a = 234"
   ]
  },
  {
   "cell_type": "code",
   "execution_count": 13,
   "id": "57a72b17-377f-4a96-829f-a2628139c620",
   "metadata": {},
   "outputs": [],
   "source": [
    "b = 23"
   ]
  },
  {
   "cell_type": "code",
   "execution_count": 14,
   "id": "aef3df20-f883-4ed3-908c-63f9eea5f140",
   "metadata": {},
   "outputs": [],
   "source": [
    "a1 = True"
   ]
  },
  {
   "cell_type": "code",
   "execution_count": 15,
   "id": "9dc630f3-4b18-4c2e-93e1-671b1b9895b0",
   "metadata": {},
   "outputs": [],
   "source": [
    "a2 = False"
   ]
  },
  {
   "cell_type": "code",
   "execution_count": 16,
   "id": "dff19816-e0cc-4a9a-95de-ec5f298e5a57",
   "metadata": {},
   "outputs": [
    {
     "data": {
      "text/plain": [
       "1"
      ]
     },
     "execution_count": 16,
     "metadata": {},
     "output_type": "execute_result"
    }
   ],
   "source": [
    "a1 - a2"
   ]
  },
  {
   "cell_type": "code",
   "execution_count": 17,
   "id": "92baed21-713b-4b56-a0ab-49dfc65bfbe1",
   "metadata": {},
   "outputs": [
    {
     "data": {
      "text/plain": [
       "235"
      ]
     },
     "execution_count": 17,
     "metadata": {},
     "output_type": "execute_result"
    }
   ],
   "source": [
    "a1 + a"
   ]
  },
  {
   "cell_type": "code",
   "execution_count": 18,
   "id": "be0acb3d-b99e-44ca-8571-c4b720d7134b",
   "metadata": {},
   "outputs": [
    {
     "data": {
      "text/plain": [
       "-23"
      ]
     },
     "execution_count": 18,
     "metadata": {},
     "output_type": "execute_result"
    }
   ],
   "source": [
    "a2 - b"
   ]
  },
  {
   "cell_type": "code",
   "execution_count": null,
   "id": "c9a350ae-ed64-4267-908f-2bef4404d67f",
   "metadata": {},
   "outputs": [],
   "source": []
  }
 ],
 "metadata": {
  "kernelspec": {
   "display_name": "Python 3 (ipykernel)",
   "language": "python",
   "name": "python3"
  },
  "language_info": {
   "codemirror_mode": {
    "name": "ipython",
    "version": 3
   },
   "file_extension": ".py",
   "mimetype": "text/x-python",
   "name": "python",
   "nbconvert_exporter": "python",
   "pygments_lexer": "ipython3",
   "version": "3.12.4"
  }
 },
 "nbformat": 4,
 "nbformat_minor": 5
}
