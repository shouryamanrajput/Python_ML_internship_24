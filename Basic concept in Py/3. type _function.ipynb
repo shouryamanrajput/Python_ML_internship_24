{
 "cells": [
  {
   "cell_type": "code",
   "execution_count": 41,
   "id": "f5c7441b-66f3-4b4e-9599-98769014da6d",
   "metadata": {},
   "outputs": [],
   "source": [
    "# FInding type of a value stored in a variable:\n",
    "a =  2344"
   ]
  },
  {
   "cell_type": "code",
   "execution_count": 42,
   "id": "af2fe6dc-3e7b-43b2-8a7e-3d8ee08b750a",
   "metadata": {},
   "outputs": [
    {
     "data": {
      "text/plain": [
       "int"
      ]
     },
     "execution_count": 42,
     "metadata": {},
     "output_type": "execute_result"
    }
   ],
   "source": [
    "type(a)   # INTEGER"
   ]
  },
  {
   "cell_type": "code",
   "execution_count": 43,
   "id": "0057cdf6-600d-466c-b38f-35080b9303d0",
   "metadata": {},
   "outputs": [],
   "source": [
    "b = 34343.666666663  # FLOAT"
   ]
  },
  {
   "cell_type": "code",
   "execution_count": 44,
   "id": "fedf6d7e-fae8-4e35-b680-846331361585",
   "metadata": {},
   "outputs": [
    {
     "data": {
      "text/plain": [
       "float"
      ]
     },
     "execution_count": 44,
     "metadata": {},
     "output_type": "execute_result"
    }
   ],
   "source": [
    "type(b)"
   ]
  },
  {
   "cell_type": "code",
   "execution_count": 45,
   "id": "94c2d9a3-1d65-4152-a6ab-17ce91f19ef3",
   "metadata": {},
   "outputs": [],
   "source": [
    "c = 23/2    # FLoAT"
   ]
  },
  {
   "cell_type": "code",
   "execution_count": 46,
   "id": "24699331-fe55-4b64-abdc-26ae58b5d870",
   "metadata": {},
   "outputs": [
    {
     "data": {
      "text/plain": [
       "float"
      ]
     },
     "execution_count": 46,
     "metadata": {},
     "output_type": "execute_result"
    }
   ],
   "source": [
    "type(c)"
   ]
  },
  {
   "cell_type": "code",
   "execution_count": 47,
   "id": "3ee5fc62-b0fb-4322-a5be-a2cf65527c5e",
   "metadata": {},
   "outputs": [],
   "source": [
    "d = 'shouryaman'  # STRINg"
   ]
  },
  {
   "cell_type": "code",
   "execution_count": 48,
   "id": "163a920e-3a41-4a22-be4e-db8eb01f07e3",
   "metadata": {},
   "outputs": [
    {
     "data": {
      "text/plain": [
       "str"
      ]
     },
     "execution_count": 48,
     "metadata": {},
     "output_type": "execute_result"
    }
   ],
   "source": [
    "type(d)"
   ]
  },
  {
   "cell_type": "code",
   "execution_count": 49,
   "id": "224ff6a5-8207-481b-a493-7e58fdfeb37c",
   "metadata": {},
   "outputs": [],
   "source": [
    "e = True   # BOolean"
   ]
  },
  {
   "cell_type": "code",
   "execution_count": 50,
   "id": "bee65b70-6144-4dfb-a396-b9f7022e23e5",
   "metadata": {},
   "outputs": [
    {
     "data": {
      "text/plain": [
       "bool"
      ]
     },
     "execution_count": 50,
     "metadata": {},
     "output_type": "execute_result"
    }
   ],
   "source": [
    "type(e)"
   ]
  },
  {
   "cell_type": "code",
   "execution_count": null,
   "id": "1d0e734c-4e82-4b90-a2e8-ad08303f39bc",
   "metadata": {},
   "outputs": [],
   "source": [
    "## DONE"
   ]
  }
 ],
 "metadata": {
  "kernelspec": {
   "display_name": "Python 3 (ipykernel)",
   "language": "python",
   "name": "python3"
  },
  "language_info": {
   "codemirror_mode": {
    "name": "ipython",
    "version": 3
   },
   "file_extension": ".py",
   "mimetype": "text/x-python",
   "name": "python",
   "nbconvert_exporter": "python",
   "pygments_lexer": "ipython3",
   "version": "3.12.4"
  }
 },
 "nbformat": 4,
 "nbformat_minor": 5
}
