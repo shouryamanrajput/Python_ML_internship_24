{
 "cells": [
  {
   "cell_type": "code",
   "execution_count": null,
   "id": "5f93928c-eee9-418b-a506-04d303ea1a6a",
   "metadata": {},
   "outputs": [],
   "source": [
    "# Changing data type pf a variable \n",
    "# As we Know that in Python - The value returned is always of \"STRIng\" data type .....\n",
    "# so in order to change it we use this syntax"
   ]
  },
  {
   "cell_type": "code",
   "execution_count": 4,
   "id": "9e43c1f1-b4e3-43be-84ba-dd032fb3c216",
   "metadata": {},
   "outputs": [
    {
     "name": "stdout",
     "output_type": "stream",
     "text": [
      "Enter your date of birth : 2004\n"
     ]
    }
   ],
   "source": [
    "random_variable = input (\"Enter your date of birth :\")"
   ]
  },
  {
   "cell_type": "code",
   "execution_count": 5,
   "id": "bfffe649-2ef4-4a99-a445-ec782ca8d830",
   "metadata": {},
   "outputs": [
    {
     "name": "stdout",
     "output_type": "stream",
     "text": [
      "2004\n"
     ]
    }
   ],
   "source": [
    "print(random_variable)"
   ]
  },
  {
   "cell_type": "code",
   "execution_count": 6,
   "id": "86be9eeb-3dd7-4679-a2c1-b2b1024ca05d",
   "metadata": {},
   "outputs": [
    {
     "data": {
      "text/plain": [
       "str"
      ]
     },
     "execution_count": 6,
     "metadata": {},
     "output_type": "execute_result"
    }
   ],
   "source": [
    "type(random_variable)"
   ]
  },
  {
   "cell_type": "code",
   "execution_count": null,
   "id": "45dc7c0a-a4bf-45e0-93cb-921a82766c7d",
   "metadata": {},
   "outputs": [],
   "source": [
    "## changing"
   ]
  },
  {
   "cell_type": "code",
   "execution_count": 7,
   "id": "cd0d5c29-a7b6-4dbd-95aa-144fb418023f",
   "metadata": {},
   "outputs": [
    {
     "name": "stdout",
     "output_type": "stream",
     "text": [
      "Enter your date of birth : 2004\n"
     ]
    }
   ],
   "source": [
    "random_var = int (input (\"Enter your date of birth :\"))"
   ]
  },
  {
   "cell_type": "code",
   "execution_count": 8,
   "id": "0d86073e-f59f-4a83-bec5-1b1722d49d16",
   "metadata": {},
   "outputs": [
    {
     "data": {
      "text/plain": [
       "int"
      ]
     },
     "execution_count": 8,
     "metadata": {},
     "output_type": "execute_result"
    }
   ],
   "source": [
    "type(random_var)"
   ]
  },
  {
   "cell_type": "code",
   "execution_count": null,
   "id": "dce23732-bbe9-49e8-919a-06819b3c91db",
   "metadata": {},
   "outputs": [],
   "source": []
  }
 ],
 "metadata": {
  "kernelspec": {
   "display_name": "Python 3 (ipykernel)",
   "language": "python",
   "name": "python3"
  },
  "language_info": {
   "codemirror_mode": {
    "name": "ipython",
    "version": 3
   },
   "file_extension": ".py",
   "mimetype": "text/x-python",
   "name": "python",
   "nbconvert_exporter": "python",
   "pygments_lexer": "ipython3",
   "version": "3.12.4"
  }
 },
 "nbformat": 4,
 "nbformat_minor": 5
}
