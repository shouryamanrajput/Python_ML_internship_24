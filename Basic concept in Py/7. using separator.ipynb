{
 "cells": [
  {
   "cell_type": "code",
   "execution_count": 7,
   "id": "ee25360e-e76f-4444-b0db-be5d2bddd5d1",
   "metadata": {},
   "outputs": [],
   "source": [
    "name = \"Bongu Pahdai\"\n",
    "addhar = 1696911\n",
    "resident = \"HP\"\n",
    "district = \"Patrodak\"\n",
    "bloodgroup = \"C+\""
   ]
  },
  {
   "cell_type": "code",
   "execution_count": 12,
   "id": "ca0231f1-5ae0-4470-89df-19972af82ca9",
   "metadata": {},
   "outputs": [
    {
     "name": "stdout",
     "output_type": "stream",
     "text": [
      "Bongu Pahdai - 1696911 - HP - Patrodak - C+\n"
     ]
    }
   ],
   "source": [
    "print(name ,addhar ,resident ,district ,bloodgroup ,sep=\" - \")"
   ]
  },
  {
   "cell_type": "code",
   "execution_count": 13,
   "id": "de94f889-7a13-499c-aa68-7595d98cbb93",
   "metadata": {},
   "outputs": [],
   "source": [
    "x = 2\n",
    "y = 34\n",
    "z = 69.69"
   ]
  },
  {
   "cell_type": "code",
   "execution_count": 15,
   "id": "54807862-3a6b-4bcb-a940-88a6ba045a24",
   "metadata": {},
   "outputs": [
    {
     "name": "stdout",
     "output_type": "stream",
     "text": [
      "2->34->69.69\n"
     ]
    }
   ],
   "source": [
    "print( x , y , z , sep=\"->\")"
   ]
  },
  {
   "cell_type": "code",
   "execution_count": null,
   "id": "953c051a-d371-4efd-908f-ed8eab18bc60",
   "metadata": {},
   "outputs": [],
   "source": []
  }
 ],
 "metadata": {
  "kernelspec": {
   "display_name": "Python 3 (ipykernel)",
   "language": "python",
   "name": "python3"
  },
  "language_info": {
   "codemirror_mode": {
    "name": "ipython",
    "version": 3
   },
   "file_extension": ".py",
   "mimetype": "text/x-python",
   "name": "python",
   "nbconvert_exporter": "python",
   "pygments_lexer": "ipython3",
   "version": "3.12.4"
  }
 },
 "nbformat": 4,
 "nbformat_minor": 5
}
