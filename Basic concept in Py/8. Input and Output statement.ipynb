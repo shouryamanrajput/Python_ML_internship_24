{
 "cells": [
  {
   "cell_type": "code",
   "execution_count": 6,
   "id": "92e9bef6-4d71-4c33-8aff-93a87847767e",
   "metadata": {},
   "outputs": [],
   "source": [
    "# Take value from user and storing it in a variable"
   ]
  },
  {
   "cell_type": "code",
   "execution_count": 7,
   "id": "4ce98f15-690c-48e9-89d9-87641cebcac7",
   "metadata": {},
   "outputs": [
    {
     "name": "stdin",
     "output_type": "stream",
     "text": [
      "Name : Shouryaman\n",
      "Gender : Male\n",
      "Age : 20\n",
      "Blood Group : B+\n"
     ]
    }
   ],
   "source": [
    "name = input(\"Name :\")\n",
    "gender = input(\"Gender :\")\n",
    "age = input(\"Age :\")\n",
    "blood_group = input(\"Blood Group :\")\n",
    "\n"
   ]
  },
  {
   "cell_type": "code",
   "execution_count": 8,
   "id": "da4642df-2ffb-4e20-baba-92fd47297948",
   "metadata": {},
   "outputs": [
    {
     "name": "stdout",
     "output_type": "stream",
     "text": [
      "Shouryaman -- Male -- 20 -- B+\n"
     ]
    }
   ],
   "source": [
    "print(name ,gender, age , blood_group, sep = \" -- \")"
   ]
  }
 ],
 "metadata": {
  "kernelspec": {
   "display_name": "Python 3 (ipykernel)",
   "language": "python",
   "name": "python3"
  },
  "language_info": {
   "codemirror_mode": {
    "name": "ipython",
    "version": 3
   },
   "file_extension": ".py",
   "mimetype": "text/x-python",
   "name": "python",
   "nbconvert_exporter": "python",
   "pygments_lexer": "ipython3",
   "version": "3.12.4"
  }
 },
 "nbformat": 4,
 "nbformat_minor": 5
}
